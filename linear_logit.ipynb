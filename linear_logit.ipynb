{
 "cells": [
  {
   "cell_type": "code",
   "execution_count": 1,
   "metadata": {},
   "outputs": [],
   "source": [
    "import numpy as np\n",
    "import matplotlib.pyplot as plt"
   ]
  },
  {
   "cell_type": "code",
   "execution_count": 3,
   "metadata": {},
   "outputs": [],
   "source": [
    "#读入训练数据\n",
    "train = np.loadtxt('/Users/xiaokeai/Desktop/images_for_logit.csv',delimiter=',',skiprows=1)\n",
    "train_x = train[:,0:2]\n",
    "train_y = train[:,2]"
   ]
  },
  {
   "cell_type": "code",
   "execution_count": 4,
   "metadata": {},
   "outputs": [],
   "source": [
    "#初始化参数\n",
    "theta = np.random.rand(3)"
   ]
  },
  {
   "cell_type": "code",
   "execution_count": 5,
   "metadata": {},
   "outputs": [],
   "source": [
    "#标准化\n",
    "mu = train_x.mean(axis=0)\n",
    "sigma = train_x.std(axis=0)\n",
    "def standardize(x):\n",
    "    return (x-mu)/sigma\n",
    "\n",
    "train_z = standardize(train_x)"
   ]
  },
  {
   "cell_type": "code",
   "execution_count": 7,
   "metadata": {},
   "outputs": [],
   "source": [
    "#增加x0\n",
    "def to_matrix(x):\n",
    "    x0 = np.ones([x.shape[0],1])\n",
    "    return np.hstack([x0,x])\n",
    "\n",
    "X = to_matrix(train_z)"
   ]
  },
  {
   "cell_type": "code",
   "execution_count": 8,
   "metadata": {},
   "outputs": [
    {
     "data": {
      "image/png": "[encoded data removed]",
      "text/plain": [
       "<Figure size 432x288 with 1 Axes>"
      ]
     },
     "metadata": {
      "needs_background": "light"
     },
     "output_type": "display_data"
    }
   ],
   "source": [
    "#将标准化后的训练数据画成图\n",
    "plt.plot(train_z[train_y==1,0],train_z[train_y==1,1],'o')\n",
    "plt.plot(train_z[train_y==0,0],train_z[train_y==0,1],'x')\n",
    "plt.show()"
   ]
  },
  {
   "cell_type": "code",
   "execution_count": 9,
   "metadata": {},
   "outputs": [],
   "source": [
    "#sigmoid函数\n",
    "def f(x):\n",
    "    return 1/(1+np.exp(-np.dot(x,theta)))"
   ]
  },
  {
   "cell_type": "code",
   "execution_count": 10,
   "metadata": {},
   "outputs": [],
   "source": [
    "#学习率\n",
    "ETA = 1e-3\n",
    "\n",
    "#重复次数\n",
    "epoch = 5000\n",
    "\n",
    "#重复学习\n",
    "for _ in range(epoch):\n",
    "    theta=theta-ETA*np.dot(f(X)-train_y, X)"
   ]
  },
  {
   "cell_type": "code",
   "execution_count": 11,
   "metadata": {},
   "outputs": [
    {
     "data": {
      "image/png": "[encoded data removed]",
      "text/plain": [
       "<Figure size 432x288 with 1 Axes>"
      ]
     },
     "metadata": {
      "needs_background": "light"
     },
     "output_type": "display_data"
    }
   ],
   "source": [
    "x0 = np.linspace(-2,2,100)\n",
    "\n",
    "plt.plot(train_z[train_y==1,0],train_z[train_y==1,1],'o')\n",
    "plt.plot(train_z[train_y==0,0],train_z[train_y==0,1],'x')\n",
    "plt.plot(x0,-(theta[0]+theta[1]*x0)/theta[2],\n",
    "linestyle = 'dashed')\n",
    "plt.show()"
   ]
  },
  {
   "cell_type": "code",
   "execution_count": 12,
   "metadata": {},
   "outputs": [
    {
     "data": {
      "text/plain": [
       "array([0.86988394, 0.02524028])"
      ]
     },
     "execution_count": 12,
     "metadata": {},
     "output_type": "execute_result"
    }
   ],
   "source": [
    "#验证\n",
    "f(to_matrix(standardize([\n",
    "    [200,100],#200*100的横向图像\n",
    "    [100,200],#100*200的纵向图像\n",
    "])))"
   ]
  }
 ],
 "metadata": {
  "kernelspec": {
   "display_name": "Python 3",
   "language": "python",
   "name": "python3"
  },
  "language_info": {
   "codemirror_mode": {
    "name": "ipython",
    "version": 3
   },
   "file_extension": ".py",
   "mimetype": "text/x-python",
   "name": "python",
   "nbconvert_exporter": "python",
   "pygments_lexer": "ipython3",
   "version": "3.7.4"
  }
 },
 "nbformat": 4,
 "nbformat_minor": 4
}
