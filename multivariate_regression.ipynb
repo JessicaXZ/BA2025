{
 "cells": [
  {
   "cell_type": "code",
   "execution_count": 1,
   "metadata": {},
   "outputs": [],
   "source": [
    "import numpy as np\n",
    "import matplotlib.pyplot as plt"
   ]
  },
  {
   "cell_type": "code",
   "execution_count": 2,
   "metadata": {},
   "outputs": [],
   "source": [
    "#读入训练数据，根据你的文件存储路径做出相应的修改\n",
    "train = np.loadtxt('/Users/xiaokeai/Desktop/click.csv',delimiter=',',skiprows=1)\n",
    "train_x = train[:,0]\n",
    "train_y = train[:,1]"
   ]
  },
  {
   "cell_type": "code",
   "execution_count": 3,
   "metadata": {},
   "outputs": [],
   "source": [
    "#标准化\n",
    "mu=train_x.mean()\n",
    "sigma=train_x.std()\n",
    "def standardize(x):\n",
    "    return (x-mu)/sigma\n",
    "\n",
    "train_z=standardize(train_x)"
   ]
  },
  {
   "cell_type": "code",
   "execution_count": 4,
   "metadata": {},
   "outputs": [],
   "source": [
    "#5.2.8\n",
    "#初始化参数 多元回归\n",
    "theta=np.random.rand(3)"
   ]
  },
  {
   "cell_type": "code",
   "execution_count": 5,
   "metadata": {},
   "outputs": [],
   "source": [
    "#预测函数\n",
    "def f(x):\n",
    "    return np.dot(x,theta)"
   ]
  },
  {
   "cell_type": "code",
   "execution_count": 6,
   "metadata": {},
   "outputs": [],
   "source": [
    "#目标函数\n",
    "def E(x,y):\n",
    "    return 0.5*np.sum(y-f(x)**2)"
   ]
  },
  {
   "cell_type": "code",
   "execution_count": 7,
   "metadata": {},
   "outputs": [],
   "source": [
    "#创建训练数据的矩阵\n",
    "def to_matrix(x):\n",
    "    return np.vstack([np.ones(x.shape[0]),x,x**2]).T"
   ]
  },
  {
   "cell_type": "code",
   "execution_count": 8,
   "metadata": {},
   "outputs": [],
   "source": [
    "X=to_matrix(train_z)"
   ]
  },
  {
   "cell_type": "code",
   "execution_count": 10,
   "metadata": {},
   "outputs": [],
   "source": [
    "#学习率\n",
    "ETA=1e-3\n",
    "#误差的差值\n",
    "diff=1\n",
    "\n",
    "#重复学习\n",
    "error=E(X, train_y)\n",
    "while diff>1e-2:\n",
    "    #更新参数\n",
    "    theta=theta-ETA*np.dot(f(X)-train_y, X)\n",
    "    #计算与上一次误差的差值\n",
    "    current_error=E(X, train_y)\n",
    "    diff=error-current_error\n",
    "    error=current_error"
   ]
  },
  {
   "cell_type": "code",
   "execution_count": 11,
   "metadata": {},
   "outputs": [
    {
     "data": {
      "image/png": "[encoded data removed]",
      "text/plain": [
       "<Figure size 432x288 with 1 Axes>"
      ]
     },
     "metadata": {
      "needs_background": "light"
     },
     "output_type": "display_data"
    }
   ],
   "source": [
    "x=np.linspace(-3,3,400)\n",
    "\n",
    "plt.plot(train_z,train_y,'o')\n",
    "plt.plot(x,f(to_matrix(x)))\n",
    "plt.show()"
   ]
  },
  {
   "cell_type": "code",
   "execution_count": 13,
   "metadata": {},
   "outputs": [],
   "source": [
    "#梯度下降法示意图：均方误差在减小\n",
    "#均方误差\n",
    "def MSE(x,y):\n",
    "    return(1/x.shape[0])*np.sum((y-f(x))**2)"
   ]
  },
  {
   "cell_type": "code",
   "execution_count": 14,
   "metadata": {},
   "outputs": [],
   "source": [
    "#用随机值初始化参数\n",
    "theta=np.random.rand(3)"
   ]
  },
  {
   "cell_type": "code",
   "execution_count": 15,
   "metadata": {},
   "outputs": [],
   "source": [
    "#均方误差的历史记录\n",
    "errors=[]"
   ]
  },
  {
   "cell_type": "code",
   "execution_count": 16,
   "metadata": {},
   "outputs": [],
   "source": [
    "#误差的差值\n",
    "diff=1"
   ]
  },
  {
   "cell_type": "code",
   "execution_count": 17,
   "metadata": {},
   "outputs": [],
   "source": [
    "#重复学习\n",
    "errors.append(MSE(X,train_y))\n",
    "while diff>1e-2:\n",
    "    theta=theta-ETA*np.dot(f(X)-train_y,X)\n",
    "    errors.append(MSE(X,train_y))\n",
    "    diff=errors[-2]-errors[-1]"
   ]
  },
  {
   "cell_type": "code",
   "execution_count": 18,
   "metadata": {},
   "outputs": [
    {
     "data": {
      "image/png": "[encoded data removed]",
      "text/plain": [
       "<Figure size 432x288 with 1 Axes>"
      ]
     },
     "metadata": {
      "needs_background": "light"
     },
     "output_type": "display_data"
    }
   ],
   "source": [
    "#绘制误差变化图\n",
    "x=np.arange(len(errors))\n",
    "plt.plot(x,errors)\n",
    "plt.show()"
   ]
  },
  {
   "cell_type": "code",
   "execution_count": null,
   "metadata": {},
   "outputs": [],
   "source": []
  }
 ],
 "metadata": {
  "kernelspec": {
   "display_name": "Python 3",
   "language": "python",
   "name": "python3"
  },
  "language_info": {
   "codemirror_mode": {
    "name": "ipython",
    "version": 3
   },
   "file_extension": ".py",
   "mimetype": "text/x-python",
   "name": "python",
   "nbconvert_exporter": "python",
   "pygments_lexer": "ipython3",
   "version": "3.7.4"
  }
 },
 "nbformat": 4,
 "nbformat_minor": 4
}
